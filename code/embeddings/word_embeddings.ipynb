{
  "nbformat": 4,
  "nbformat_minor": 5,
  "metadata": {
    "colab": {
      "provenance": [],
      "machine_shape": "hm",
      "include_colab_link": true
    },
    "kernelspec": {
      "display_name": "Python 3",
      "language": "python",
      "name": "python3"
    },
    "language_info": {
      "codemirror_mode": {
        "name": "ipython",
        "version": 3
      },
      "file_extension": ".py",
      "mimetype": "text/x-python",
      "name": "python",
      "nbconvert_exporter": "python",
      "pygments_lexer": "ipython3",
      "version": "3.8.10"
    },
    "gpuClass": "standard"
  },
  "cells": [
    {
      "cell_type": "markdown",
      "metadata": {
        "id": "view-in-github",
        "colab_type": "text"
      },
      "source": [
        "<a href=\"https://colab.research.google.com/github/nicolaiberk/FrameCompetition/blob/main/code/embeddings/word_embeddings.ipynb\" target=\"_parent\"><img src=\"https://colab.research.google.com/assets/colab-badge.svg\" alt=\"Open In Colab\"/></a>"
      ]
    },
    {
      "cell_type": "code",
      "metadata": {
        "colab": {
          "base_uri": "https://localhost:8080/"
        },
        "id": "qa9mxZGMoEdK",
        "outputId": "aa264958-9569-4a7a-b0d2-c2e6c39df5e1"
      },
      "source": [
        "from google.colab import drive\n",
        "drive.mount('/content/drive')"
      ],
      "id": "qa9mxZGMoEdK",
      "execution_count": 1,
      "outputs": [
        {
          "output_type": "stream",
          "name": "stdout",
          "text": [
            "Drive already mounted at /content/drive; to attempt to forcibly remount, call drive.mount(\"/content/drive\", force_remount=True).\n"
          ]
        }
      ]
    },
    {
      "cell_type": "code",
      "metadata": {
        "colab": {
          "base_uri": "https://localhost:8080/"
        },
        "id": "c5825374-c511-47fe-a2e4-da9bd8431a6d",
        "outputId": "c6f16c9f-9312-48f8-d519-76413978920a"
      },
      "source": [
        "## estimate word embeddings from newspaper data\n",
        "## code adapted from https://github.com/damian0604/embeddingworkshop/blob/main/04exercise.ipynb\n",
        "import nltk\n",
        "nltk.download('punkt')\n",
        "from nltk.tokenize import sent_tokenize\n",
        "import string\n",
        "import re\n",
        "import os\n",
        "import pandas as pd\n",
        "import csv\n",
        "import sys\n",
        "import ast\n",
        "import time\n",
        "\n",
        "\n",
        "# tqdm allows you to display progress bars in loops\n",
        "from tqdm import tqdm\n",
        "from datetime import datetime\n",
        "\n",
        "import gensim\n",
        "\n",
        "csv.field_size_limit(sys.maxsize)\n",
        "\n",
        "# lets get more output\n",
        "import logging\n",
        "logging.basicConfig(format='%(asctime)s : %(levelname)s : %(message)s', level=logging.INFO)"
      ],
      "id": "c5825374-c511-47fe-a2e4-da9bd8431a6d",
      "execution_count": 2,
      "outputs": [
        {
          "output_type": "stream",
          "name": "stderr",
          "text": [
            "[nltk_data] Downloading package punkt to /root/nltk_data...\n",
            "[nltk_data]   Package punkt is already up-to-date!\n"
          ]
        }
      ]
    },
    {
      "cell_type": "code",
      "metadata": {
        "id": "11c85d9f-4750-470f-8ff8-a0a91dc705c6"
      },
      "source": [
        "# get full set of news articles\n",
        "if not os.path.isfile('drive/MyDrive/frameComp/uniquesentences.txt') and not os.path.isdir('drive/MyDrive/frameComp/newspapers'):\n",
        "    os.chdir('drive/MyDrive')\n",
        "    os.system('mkdir frameComp')\n",
        "    os.system('mkdir frameComp/newspapers')\n",
        "    os.system('wget -O frameComp/newspapers/articles.zip https://www.dropbox.com/sh/2vfmbjrq6n1623z/AAA2JWpH5bLXdPe2IFSYqj1Za?dl=0')\n",
        "    os.system('unzip frameComp/newspapers/articles.zip -d frameComp/newspapers')\n",
        "    os.system('rm frameComp/newspapers/articles.zip')\n",
        "    os.chdir('frameComp')"
      ],
      "id": "11c85d9f-4750-470f-8ff8-a0a91dc705c6",
      "execution_count": 3,
      "outputs": []
    },
    {
      "cell_type": "code",
      "metadata": {
        "id": "lz3OYCGmcSXU",
        "outputId": "0945bed4-bf7d-4f4a-a6c0-cfed3595e5b5",
        "colab": {
          "base_uri": "https://localhost:8080/"
        }
      },
      "source": [
        "if not os.path.isfile('uniquesentences.txt'):\n",
        "  # load all texts\n",
        "  if 'artcls' not in locals():\n",
        "    for filename in tqdm(os.listdir('newspapers')):\n",
        "      if 'artcls' in locals():\n",
        "        print(f'\\nLoaded {artcls.shape[0]} articles')\n",
        "        artcls = artcls.append(pd.read_csv('newspapers/'+filename))\n",
        "      else:\n",
        "        artcls = pd.read_csv('newspapers/'+filename)\n",
        "    print(f'Loaded {artcls.shape[0]} articles, done.')\n",
        "\n",
        "    artcls = artcls.reset_index()\n",
        "\n",
        "\n",
        "  # keep only if string\n",
        "  stringvar = [str == type(i) for i in artcls.text]\n",
        "  artcls = artcls[stringvar]\n",
        "  del(stringvar)\n",
        "\n",
        "  print(artcls.text[0])"
      ],
      "id": "lz3OYCGmcSXU",
      "execution_count": 4,
      "outputs": [
        {
          "output_type": "stream",
          "name": "stderr",
          "text": [
            "  9%|▉         | 1/11 [00:08<01:21,  8.17s/it]"
          ]
        },
        {
          "output_type": "stream",
          "name": "stdout",
          "text": [
            "\n",
            "Loaded 150648 articles\n"
          ]
        },
        {
          "output_type": "stream",
          "name": "stderr",
          "text": [
            "\r 18%|█▊        | 2/11 [00:26<02:04, 13.86s/it]"
          ]
        },
        {
          "output_type": "stream",
          "name": "stdout",
          "text": [
            "\n",
            "Loaded 369691 articles\n"
          ]
        },
        {
          "output_type": "stream",
          "name": "stderr",
          "text": [
            "\r 27%|██▋       | 3/11 [00:43<02:05, 15.64s/it]"
          ]
        },
        {
          "output_type": "stream",
          "name": "stdout",
          "text": [
            "\n",
            "Loaded 632957 articles\n"
          ]
        },
        {
          "output_type": "stream",
          "name": "stderr",
          "text": [
            "\r 36%|███▋      | 4/11 [01:05<02:06, 18.08s/it]"
          ]
        },
        {
          "output_type": "stream",
          "name": "stdout",
          "text": [
            "\n",
            "Loaded 959797 articles\n"
          ]
        },
        {
          "output_type": "stream",
          "name": "stderr",
          "text": [
            "\r 45%|████▌     | 5/11 [01:42<02:30, 25.03s/it]"
          ]
        },
        {
          "output_type": "stream",
          "name": "stdout",
          "text": [
            "\n",
            "Loaded 1799466 articles\n"
          ]
        },
        {
          "output_type": "stream",
          "name": "stderr",
          "text": [
            "\r 55%|█████▍    | 6/11 [01:48<01:31, 18.27s/it]"
          ]
        },
        {
          "output_type": "stream",
          "name": "stdout",
          "text": [
            "\n",
            "Loaded 1872874 articles\n"
          ]
        },
        {
          "output_type": "stream",
          "name": "stderr",
          "text": [
            "\r 64%|██████▎   | 7/11 [01:51<00:53, 13.40s/it]"
          ]
        },
        {
          "output_type": "stream",
          "name": "stdout",
          "text": [
            "\n",
            "Loaded 1938241 articles\n"
          ]
        },
        {
          "output_type": "stream",
          "name": "stderr",
          "text": [
            "\r 73%|███████▎  | 8/11 [01:54<00:30, 10.04s/it]"
          ]
        },
        {
          "output_type": "stream",
          "name": "stdout",
          "text": [
            "\n",
            "Loaded 1974659 articles\n"
          ]
        },
        {
          "output_type": "stream",
          "name": "stderr",
          "text": [
            "\r 82%|████████▏ | 9/11 [01:55<00:14,  7.32s/it]"
          ]
        },
        {
          "output_type": "stream",
          "name": "stdout",
          "text": [
            "\n",
            "Loaded 2063311 articles\n"
          ]
        },
        {
          "output_type": "stream",
          "name": "stderr",
          "text": [
            "\r 91%|█████████ | 10/11 [01:59<00:06,  6.28s/it]"
          ]
        },
        {
          "output_type": "stream",
          "name": "stdout",
          "text": [
            "\n",
            "Loaded 2162157 articles\n"
          ]
        },
        {
          "output_type": "stream",
          "name": "stderr",
          "text": [
            "100%|██████████| 11/11 [02:40<00:00, 14.56s/it]\n"
          ]
        },
        {
          "output_type": "stream",
          "name": "stdout",
          "text": [
            "Loaded 2474182 articles, done.\n",
            "Zum ersten Mal seit dem Amoklauf von Newtown sind in den USA Befürworter und Gegner von schärferen Waffengesetzen vor den Senat getreten. Die frühere demokratische Abgeordnete Gabrielle Giffords, selbst Opfer einer Schusswaffen-Attacke, sagte an ihre ehemaligen Kollegen gerichtet: \"Zu viele Kinder sterben. Zu viele Kinder. Wir müssen etwas unternehmen!\" Giffords rief den Kongress zum Handeln auf. \"Wir müssen etwas tun. Es wird schwer sein, aber jetzt ist die Zeit.\" Giffords war im Januar 2011 bei einem Besuch in ihrem Wahlkreis im Bundesstaat Arizona von einem jungen Mann aus nächster Nähe in den Kopf geschossen worden. Die Politikerin überlebte schwer verletzt. Bei der Attacke starben sechs Menschen, unter ihnen ein neunjähriges Mädchen. Giffords wurde von ihrem Ehemann Mark Kelly begleitet. Die Politikerin und der Ex-Astronaut hatten Anfang Januar die Initiative \"Americans for Responsible Solutions\" (Amerikaner für verantwortungsbewusste Lösungen) gegründet. Wayne LaPierre von der Waffenlobbyorganisation NRA sagte, man müsse bestehende Gesetze zur Überprüfung von Waffenkäufern anwenden, anstatt neue Gesetze einzuführen. Gesetzestreue Waffenbesitzer würden nicht die Schuld für gewalttätige oder geistesgestörte Kriminelle auf sich nehmen, betonte LaPierre. \"Wir glauben auch nicht, dass die Regierung vorschreiben sollte, welche Waffen wir gesetzmäßig besitzen und nutzen dürfen, um unsere Familien zu schützen\", sagte er weiter. \"Eine Kugel in der Hand eines Geisteskranken ist zu viel - sechs Kugeln in der Hand einer Mutter, die ihre neun Jahre alten Kinder schützen möchte, sind möglicherweise zu wenig\", argumentierte der Republikaner Chuck Grassley. Die mit etwa zwei Dutzend Teilnehmern besetzte Runde diskutierte auch die von Präsident Barack Obama vorgestellten Maßnahmen gegen Waffengewalt. Während eine verbindliche Überprüfung jedes Waffenkäufers auf psychische Vorerkrankungen eher Zustimmung erzielte, lehnten einige konservative Vertreter eine maximal erlaubte Patronenzahl für Waffenmagazine oder gar ein generelles Verbot von halbautomatischen Sturmgewehren ab. In den USA hatten das Kino-Attentat in Aurora mit zwölf Toten und die Attacke auf die Sandy Hook Grundschule in Newtown eine hitzige Debatte über schärfere Waffenrechte ausgelöst. Die Verfassung garantiert das Recht auf Waffenbesitz, rund 300 Millionen Waffen befinden sich laut Schätzungen in den USA in Privatbesitz. Rund 11.000 Menschen werden in den Vereinigten Staaten pro Jahr Opfer von Verbrechen mit Waffengewalt.\n"
          ]
        }
      ]
    },
    {
      "cell_type": "code",
      "metadata": {
        "id": "zpA0PEMXdFAF",
        "colab": {
          "base_uri": "https://localhost:8080/"
        },
        "outputId": "d90329db-1e58-4c1c-d82c-b64dd2acc100"
      },
      "source": [
        "if not os.path.isfile('uniquesentences.txt'):\n",
        "\n",
        "  # subset\n",
        "  artcls = artcls.text\n",
        "\n",
        "  # cut into sentences\n",
        "  print('\\nCutting into sentences:')\n",
        "  uniquesentences = set()\n",
        "  trans = str.maketrans('', '', string.punctuation) # translation scheme for removing punctuation\n",
        "  for review in tqdm(artcls):\n",
        "    sentences = sent_tokenize(review) \n",
        "    for sentence in sentences:\n",
        "      sent_trans = sentence.translate(trans).lower()\n",
        "      if sent_trans not in uniquesentences:\n",
        "        uniquesentences.add(sent_trans)\n",
        "\n",
        "  del(artcls)"
      ],
      "id": "zpA0PEMXdFAF",
      "execution_count": 5,
      "outputs": [
        {
          "output_type": "stream",
          "name": "stdout",
          "text": [
            "\n",
            "Cutting into sentences:\n"
          ]
        },
        {
          "output_type": "stream",
          "name": "stderr",
          "text": [
            "100%|██████████| 2214853/2214853 [32:03<00:00, 1151.32it/s]\n"
          ]
        }
      ]
    },
    {
      "cell_type": "code",
      "metadata": {
        "id": "oCRZzFiXkw9t",
        "colab": {
          "base_uri": "https://localhost:8080/"
        },
        "outputId": "2344cec5-e53b-4914-ce60-998f4944c20a"
      },
      "source": [
        "if not os.path.isfile('uniquesentences.txt'):\n",
        "  # extract \n",
        "  print(f\"We now have {len(uniquesentences)} unique sentences.\")"
      ],
      "id": "oCRZzFiXkw9t",
      "execution_count": 6,
      "outputs": [
        {
          "output_type": "stream",
          "name": "stdout",
          "text": [
            "We now have 42300681 unique sentences.\n"
          ]
        }
      ]
    },
    {
      "cell_type": "code",
      "metadata": {
        "id": "WNK2emCxgmeT",
        "colab": {
          "base_uri": "https://localhost:8080/"
        },
        "outputId": "6bd852e3-0e1c-4843-9e7f-8a402bec0933"
      },
      "source": [
        "if not os.path.isfile('uniquesentences.txt'):\n",
        "  with open('uniquesentences.txt', 'w') as fo:\n",
        "    writer = csv.writer(fo)\n",
        "    for sentence in tqdm(uniquesentences):\n",
        "      writer.writerow([sentence])"
      ],
      "id": "WNK2emCxgmeT",
      "execution_count": 7,
      "outputs": [
        {
          "output_type": "stream",
          "name": "stderr",
          "text": [
            "100%|██████████| 42300681/42300681 [04:00<00:00, 176153.23it/s]\n"
          ]
        }
      ]
    },
    {
      "cell_type": "code",
      "metadata": {
        "id": "xdZH3Hz9nS-b",
        "colab": {
          "base_uri": "https://localhost:8080/"
        },
        "outputId": "83ce95e7-6642-4986-da1a-f504838712a8"
      },
      "source": [
        "if os.path.isfile('uniquesentences.txt'):\n",
        "  with open('uniquesentences.txt') as fi:\n",
        "    uniquesentences = fi.readlines()\n",
        "  print(f\"We now have {len(uniquesentences)} unique sentences.\")"
      ],
      "id": "xdZH3Hz9nS-b",
      "execution_count": 8,
      "outputs": [
        {
          "output_type": "stream",
          "name": "stdout",
          "text": [
            "We now have 42301259 unique sentences.\n"
          ]
        }
      ]
    },
    {
      "cell_type": "code",
      "metadata": {
        "id": "U0N3yLWzParU"
      },
      "source": [
        "tokenizedsentences = (sentence.split() for sentence in uniquesentences) # iterator for vocab definition"
      ],
      "id": "U0N3yLWzParU",
      "execution_count": 9,
      "outputs": []
    },
    {
      "cell_type": "code",
      "metadata": {
        "id": "1UjJAa6-VxL9"
      },
      "source": [
        "inp = \"uniquesentences.txt\""
      ],
      "id": "1UjJAa6-VxL9",
      "execution_count": 10,
      "outputs": []
    },
    {
      "cell_type": "code",
      "metadata": {
        "id": "spkoV479rBV9",
        "colab": {
          "base_uri": "https://localhost:8080/"
        },
        "outputId": "e310c01a-edd9-4127-a2a6-cb9ecd677db8"
      },
      "source": [
        "print(f\"Started setting up the model at {datetime.now()}\")\n",
        "model = gensim.models.Word2Vec(size=300, min_count=100, window = 5, workers = 4) # we want 300 dimensions and not overdo it with the features\n",
        "model.build_vocab(tokenizedsentences)\n",
        "print(f\"Finished vocabulary definition at {datetime.now()}\")"
      ],
      "id": "spkoV479rBV9",
      "execution_count": 11,
      "outputs": [
        {
          "output_type": "stream",
          "name": "stdout",
          "text": [
            "Started setting up the model at 2022-12-02 10:24:47.303264\n",
            "Finished vocabulary definition at 2022-12-02 10:33:28.007436\n"
          ]
        }
      ]
    },
    {
      "cell_type": "code",
      "metadata": {
        "id": "GwrDK1apYKi8"
      },
      "source": [
        "del(uniquesentences)\n",
        "del(tokenizedsentences)"
      ],
      "id": "GwrDK1apYKi8",
      "execution_count": 12,
      "outputs": []
    },
    {
      "cell_type": "code",
      "metadata": {
        "id": "N3WhP1wR4r7K",
        "colab": {
          "base_uri": "https://localhost:8080/"
        },
        "outputId": "309b4586-a7e3-4a28-94ed-45183f335633"
      },
      "source": [
        "from gensim.models.word2vec import LineSentence\n",
        "\n",
        "print(f\"Started training at {datetime.now()}\")\n",
        "model.train(LineSentence(inp), total_examples=model.corpus_count,  epochs=5)\n",
        "print(f\"Finished training at {datetime.now()}\")"
      ],
      "id": "N3WhP1wR4r7K",
      "execution_count": 13,
      "outputs": [
        {
          "output_type": "stream",
          "name": "stdout",
          "text": [
            "Started training at 2022-12-02 10:33:32.447392\n"
          ]
        },
        {
          "output_type": "stream",
          "name": "stderr",
          "text": [
            "WARNING:gensim.models.base_any2vec:EPOCH - 1 : supplied example count (42300659) did not equal expected count (42301259)\n",
            "WARNING:gensim.models.base_any2vec:EPOCH - 2 : supplied example count (42300659) did not equal expected count (42301259)\n",
            "WARNING:gensim.models.base_any2vec:EPOCH - 3 : supplied example count (42300659) did not equal expected count (42301259)\n",
            "WARNING:gensim.models.base_any2vec:EPOCH - 4 : supplied example count (42300659) did not equal expected count (42301259)\n",
            "WARNING:gensim.models.base_any2vec:EPOCH - 5 : supplied example count (42300659) did not equal expected count (42301259)\n"
          ]
        },
        {
          "output_type": "stream",
          "name": "stdout",
          "text": [
            "Finished training at 2022-12-02 12:37:29.329102\n"
          ]
        }
      ]
    },
    {
      "cell_type": "code",
      "metadata": {
        "id": "J-2XB8dQu6Cl",
        "colab": {
          "base_uri": "https://localhost:8080/"
        },
        "outputId": "25602c3b-763b-4f67-9660-a5f2ade1d671"
      },
      "source": [
        "print('Saving model:')\n",
        "model.save(\"np_emb\")\n",
        "print('Model finished!')"
      ],
      "id": "J-2XB8dQu6Cl",
      "execution_count": 15,
      "outputs": [
        {
          "output_type": "stream",
          "name": "stdout",
          "text": [
            "Saving model:\n",
            "Model finished!\n"
          ]
        }
      ]
    },
    {
      "cell_type": "code",
      "metadata": {
        "id": "9ha2RB9E8uED"
      },
      "source": [
        "# Store just the words + their trained embeddings.\n",
        "model = gensim.models.Word2Vec.load(\"np_emb\")\n",
        "word_vectors = model.wv\n",
        "word_vectors.save(\"word2vec.wordvectors\")"
      ],
      "id": "9ha2RB9E8uED",
      "execution_count": 16,
      "outputs": []
    },
    {
      "cell_type": "markdown",
      "metadata": {
        "id": "UBFlf0_lYQDk"
      },
      "source": [
        "## Assess model validity and bias"
      ],
      "id": "UBFlf0_lYQDk"
    },
    {
      "cell_type": "code",
      "metadata": {
        "id": "GXCjolwu9MM6"
      },
      "source": [
        "from gensim.models import KeyedVectors\n",
        "wv = KeyedVectors.load(\"word2vec.wordvectors\", mmap='r')"
      ],
      "id": "GXCjolwu9MM6",
      "execution_count": 17,
      "outputs": []
    },
    {
      "cell_type": "code",
      "metadata": {
        "id": "wjr7esAa9Py7",
        "colab": {
          "base_uri": "https://localhost:8080/"
        },
        "outputId": "1ed4d5a6-646b-4d78-cf95-1ef373434734"
      },
      "source": [
        "wv.most_similar('flüchtling', topn=10)  # get other similar words"
      ],
      "id": "wjr7esAa9Py7",
      "execution_count": 18,
      "outputs": [
        {
          "output_type": "execute_result",
          "data": {
            "text/plain": [
              "[('kriegsflüchtling', 0.7471936345100403),\n",
              " ('migrant', 0.7153430581092834),\n",
              " ('asylsuchender', 0.6903766393661499),\n",
              " ('afghane', 0.6758092641830444),\n",
              " ('syrer', 0.656206488609314),\n",
              " ('asylbewerber', 0.6547186374664307),\n",
              " ('häftling', 0.6372201442718506),\n",
              " ('eritreer', 0.6123487949371338),\n",
              " ('flüchtlingskind', 0.612052321434021),\n",
              " ('kurde', 0.6115912199020386)]"
            ]
          },
          "metadata": {},
          "execution_count": 18
        }
      ]
    },
    {
      "cell_type": "code",
      "metadata": {
        "id": "u33HxMZWeZs6",
        "colab": {
          "base_uri": "https://localhost:8080/"
        },
        "outputId": "3ae18489-9083-4f3b-8bfa-e10fe9e0046b"
      },
      "source": [
        "wv.most_similar('immigration', topn=10)"
      ],
      "id": "u33HxMZWeZs6",
      "execution_count": 19,
      "outputs": [
        {
          "output_type": "execute_result",
          "data": {
            "text/plain": [
              "[('einwanderung', 0.8183763027191162),\n",
              " ('migration', 0.710647702217102),\n",
              " ('zuwanderung', 0.6837635040283203),\n",
              " ('arbeitsmigration', 0.6360291242599487),\n",
              " ('einwanderung“', 0.6120237708091736),\n",
              " ('migration“', 0.6078910827636719),\n",
              " ('masseneinwanderung', 0.5990856885910034),\n",
              " ('sekundärmigration', 0.573615550994873),\n",
              " ('massenmigration', 0.566524088382721),\n",
              " ('einwanderungspolitik', 0.5498449802398682)]"
            ]
          },
          "metadata": {},
          "execution_count": 19
        }
      ]
    },
    {
      "cell_type": "code",
      "metadata": {
        "id": "tuVq4qIWfKua",
        "colab": {
          "base_uri": "https://localhost:8080/"
        },
        "outputId": "9e596f61-be13-40ba-eb73-3829712a1db7"
      },
      "source": [
        "wv.most_similar(positive=[\"frau\",\"könig\"],negative=[\"mann\"])"
      ],
      "id": "tuVq4qIWfKua",
      "execution_count": 20,
      "outputs": [
        {
          "output_type": "execute_result",
          "data": {
            "text/plain": [
              "[('königin', 0.640566349029541),\n",
              " ('gemahlin', 0.6393531560897827),\n",
              " ('prinzessin', 0.6323640942573547),\n",
              " ('gattin', 0.6047043800354004),\n",
              " ('kaiserin', 0.5853005051612854),\n",
              " ('hofdame', 0.5741569995880127),\n",
              " ('mätresse', 0.5668904185295105),\n",
              " ('kronprinzessin', 0.5587282180786133),\n",
              " ('fürstin', 0.5533872246742249),\n",
              " ('regentin', 0.5430272817611694)]"
            ]
          },
          "metadata": {},
          "execution_count": 20
        }
      ]
    },
    {
      "cell_type": "code",
      "metadata": {
        "id": "smDJLjUKfU5p",
        "colab": {
          "base_uri": "https://localhost:8080/"
        },
        "outputId": "7279e806-f40d-484c-ebba-47f01982c633"
      },
      "source": [
        "wv.most_similar(positive=[\"frau\",\"arzt\"],negative=[\"mann\"]) # surprisingly unbiased on gender"
      ],
      "id": "smDJLjUKfU5p",
      "execution_count": 21,
      "outputs": [
        {
          "output_type": "execute_result",
          "data": {
            "text/plain": [
              "[('ärztin', 0.7031672596931458),\n",
              " ('therapeutin', 0.6784923076629639),\n",
              " ('hebamme', 0.6774612665176392),\n",
              " ('gynäkologin', 0.6630911231040955),\n",
              " ('patientin', 0.6559009552001953),\n",
              " ('frauenärztin', 0.643024742603302),\n",
              " ('zahnärztin', 0.6362940669059753),\n",
              " ('krankenschwester', 0.6322504878044128),\n",
              " ('kinderärztin', 0.6198192238807678),\n",
              " ('psychiaterin', 0.6130384206771851)]"
            ]
          },
          "metadata": {},
          "execution_count": 21
        }
      ]
    },
    {
      "cell_type": "code",
      "metadata": {
        "id": "z3zWGmo4f3se",
        "colab": {
          "base_uri": "https://localhost:8080/"
        },
        "outputId": "6fa86211-7b7e-4e9d-ab73-fb523a465822"
      },
      "source": [
        "wv.most_similar(positive=[\"sie\",\"arzt\"],negative=[\"er\"]) # surprisingly unbiased on gender (at elast this example)"
      ],
      "id": "z3zWGmo4f3se",
      "execution_count": 22,
      "outputs": [
        {
          "output_type": "execute_result",
          "data": {
            "text/plain": [
              "[('hausarzt', 0.6599127054214478),\n",
              " ('gynäkologen', 0.6542491912841797),\n",
              " ('frauenarzt', 0.6433839201927185),\n",
              " ('urologen', 0.6340921521186829),\n",
              " ('therapeuten', 0.62935471534729),\n",
              " ('ärzte', 0.6281211376190186),\n",
              " ('orthopäden', 0.6259489059448242),\n",
              " ('mediziner', 0.6251450777053833),\n",
              " ('radiologen', 0.6197144985198975),\n",
              " ('kinderarzt', 0.6165973544120789)]"
            ]
          },
          "metadata": {},
          "execution_count": 22
        }
      ]
    },
    {
      "cell_type": "code",
      "metadata": {
        "id": "FxDPocr-g3YY",
        "colab": {
          "base_uri": "https://localhost:8080/"
        },
        "outputId": "54351756-6382-42f5-aae0-52dae7e75e5d"
      },
      "source": [
        "wv.most_similar(positive=[\"paris\",\"deutschland\"],negative=[\"frankreich\"])"
      ],
      "id": "FxDPocr-g3YY",
      "execution_count": 23,
      "outputs": [
        {
          "output_type": "execute_result",
          "data": {
            "text/plain": [
              "[('berlin', 0.681095540523529),\n",
              " ('hamburg', 0.5988909006118774),\n",
              " ('london', 0.5880885124206543),\n",
              " ('wien', 0.5807464122772217),\n",
              " ('kopenhagen', 0.555401086807251),\n",
              " ('münchen', 0.5479743480682373),\n",
              " ('beirut', 0.5448683500289917),\n",
              " ('istanbul', 0.5434224605560303),\n",
              " ('stockholm', 0.542122483253479),\n",
              " ('bonn', 0.5394241809844971)]"
            ]
          },
          "metadata": {},
          "execution_count": 23
        }
      ]
    },
    {
      "cell_type": "code",
      "metadata": {
        "id": "v9IFN3_JhHWz",
        "colab": {
          "base_uri": "https://localhost:8080/"
        },
        "outputId": "4fd526b1-309e-44f6-be30-99a89e239715"
      },
      "source": [
        "wv.most_similar(positive=[\"paris\",\"polen\"],negative=[\"frankreich\"])"
      ],
      "id": "v9IFN3_JhHWz",
      "execution_count": 24,
      "outputs": [
        {
          "output_type": "execute_result",
          "data": {
            "text/plain": [
              "[('warschau', 0.8180314302444458),\n",
              " ('prag', 0.750697910785675),\n",
              " ('budapest', 0.7054919004440308),\n",
              " ('krakau', 0.7040057182312012),\n",
              " ('breslau', 0.6801859736442566),\n",
              " ('bukarest', 0.6772236227989197),\n",
              " ('riga', 0.6729967594146729),\n",
              " ('vilnius', 0.6689883470535278),\n",
              " ('lodz', 0.6661868691444397),\n",
              " ('danzig', 0.6632505655288696)]"
            ]
          },
          "metadata": {},
          "execution_count": 24
        }
      ]
    },
    {
      "cell_type": "code",
      "metadata": {
        "id": "wH4d6r1Kffus",
        "colab": {
          "base_uri": "https://localhost:8080/"
        },
        "outputId": "21e200e5-43e2-47d3-b8da-cb1d41f91827"
      },
      "source": [
        "wv.most_similar(positive=[\"marokkaner\",\"polizist\"],negative=[\"deutscher\"])"
      ],
      "id": "wH4d6r1Kffus",
      "execution_count": 25,
      "outputs": [
        {
          "output_type": "execute_result",
          "data": {
            "text/plain": [
              "[('algerier', 0.6344766616821289),\n",
              " ('mann', 0.6289346218109131),\n",
              " ('afghane', 0.6286822557449341),\n",
              " ('angeklagte', 0.6121425628662109),\n",
              " ('tunesier', 0.6113818287849426),\n",
              " ('messerstecher', 0.6103597283363342),\n",
              " ('nigerianer', 0.6099405884742737),\n",
              " ('unfallfahrer', 0.6057000756263733),\n",
              " ('taxifahrer', 0.6055822968482971),\n",
              " ('messermann', 0.6040973663330078)]"
            ]
          },
          "metadata": {},
          "execution_count": 25
        }
      ]
    }
  ]
}