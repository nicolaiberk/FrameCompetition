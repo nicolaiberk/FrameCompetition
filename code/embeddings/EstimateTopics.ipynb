{
 "cells": [
  {
   "cell_type": "code",
   "execution_count": 1,
   "metadata": {},
   "outputs": [],
   "source": [
    "import pandas as pd\n",
    "import numpy as np\n",
    "import seaborn as sns\n",
    "from top2vec import Top2Vec\n",
    "from pprint import pprint\n",
    "import random\n",
    "random.seed(42)"
   ]
  },
  {
   "cell_type": "code",
   "execution_count": 9,
   "metadata": {},
   "outputs": [],
   "source": [
    "## define parameters\n",
    "\n",
    "umap_args = {'n_neighbors': 30, # when replicating, consider setting this to 15 (check umap website), as currently no outliers are removed\n",
    "             'n_components': 5,\n",
    "             'metric': 'cosine',\n",
    "             \"random_state\": 42}\n",
    "\n",
    "hdbscan_args = {'min_cluster_size': 300,\n",
    "                'min_samples':5,\n",
    "                'metric': 'euclidean',\n",
    "                'cluster_selection_method': 'eom'}"
   ]
  },
  {
   "cell_type": "code",
   "execution_count": 2,
   "metadata": {},
   "outputs": [],
   "source": [
    "import os\n",
    "os.chdir(\"C://Users/nicol/Dropbox/PhD/Papers/FrameCompetition\")"
   ]
  },
  {
   "cell_type": "code",
   "execution_count": 3,
   "metadata": {},
   "outputs": [],
   "source": [
    "## load data\n",
    "documents = pd.read_csv(\"data/raw/media/bert_crime_clean.csv\", encoding=\"utf-8\")[\"text\"].to_list()"
   ]
  },
  {
   "cell_type": "code",
   "execution_count": null,
   "metadata": {},
   "outputs": [
    {
     "name": "stderr",
     "output_type": "stream",
     "text": [
      "2023-03-22 18:12:24,905 - top2vec - INFO - Pre-processing documents for training\n",
      "2023-03-22 18:14:00,131 - top2vec - INFO - Creating joint document/word embedding\n",
      "2023-03-22 19:37:17,422 - top2vec - INFO - Creating lower dimension embedding of documents\n",
      "2023-03-22 19:39:44,780 - top2vec - INFO - Finding dense areas of documents\n",
      "2023-03-22 19:39:59,455 - top2vec - INFO - Finding topics\n"
     ]
    }
   ],
   "source": [
    "## define model\n",
    "model = Top2Vec(documents= documents, \n",
    "                # speed='deep-learn', \n",
    "                workers=7, \n",
    "                min_count = 100, \n",
    "                # embedding_model='distiluse-base-multilingual-cased', \n",
    "                umap_args = umap_args, \n",
    "                hdbscan_args = hdbscan_args)\n"
   ]
  },
  {
   "cell_type": "code",
   "execution_count": null,
   "metadata": {},
   "outputs": [
    {
     "data": {
      "text/plain": [
       "62"
      ]
     },
     "execution_count": 8,
     "metadata": {},
     "output_type": "execute_result"
    }
   ],
   "source": [
    "## assess number of topics\n",
    "topic_nums = model.get_num_topics()\n",
    "topic_nums"
   ]
  },
  {
   "cell_type": "code",
   "execution_count": null,
   "metadata": {},
   "outputs": [],
   "source": [
    "model.save(\"models/t2v/migration_mindocs300\")"
   ]
  },
  {
   "cell_type": "code",
   "execution_count": 4,
   "metadata": {},
   "outputs": [],
   "source": [
    "model = Top2Vec.load(\"models/t2v/migration_mindocs300\")"
   ]
  },
  {
   "cell_type": "code",
   "execution_count": null,
   "metadata": {},
   "outputs": [],
   "source": [
    "for topic in range(topic_nums):\n",
    "    documents, document_scores, document_ids = model.search_documents_by_topic(topic_num=topic, num_docs=5)\n",
    "    print(f\"Topic: {topic}\")\n",
    "    print(model.topic_words[topic][:10])\n",
    "    for doc, score, doc_id in zip(documents, document_scores, document_ids):\n",
    "        print(f\"Document: {doc_id}, Score: {score}\")\n",
    "        print(\"-----------\")\n",
    "        pprint(doc)\n",
    "        print(\"-----------\")"
   ]
  },
  {
   "cell_type": "code",
   "execution_count": 5,
   "metadata": {},
   "outputs": [],
   "source": [
    "## generate a dict with 62 topic labels, with keys 1-62 and assign a different category to each topic\n",
    "topic_labels = {0: \"Episodisches Framing\",\n",
    "                1: \"Historischer Kontext\",\n",
    "                2: \"Unionsstreit 1\",\n",
    "                3: \"Bürgerkrieg in Syrien\",\n",
    "                4: \"Arbeitsmarkt\",\n",
    "                5: \"Finanzierung der Migration\",\n",
    "                6: \"Flüchtlingsunterbringung in Hamburg\",\n",
    "                7: \"Humanitäre Katastrophe im Mittelmeer\",\n",
    "                8: \"Bundesamt für Migration und Flüchtlinge (BAMF)\",\n",
    "                9: \"Trump, Mexico, Migration\",\n",
    "                10: \"EU Verteilung Flüchtlinge\",\n",
    "                11: \"Abschiebung 1\",\n",
    "                12: \"Unionsstreit 2\",\n",
    "                13: \"Aktienkurse - Dow Jones\",\n",
    "                14: \"Aktienkurse - DAX\",\n",
    "                15: \"AfD Topic\",\n",
    "                16: \"Lage in Griechenland (Ankunft & Lager)\",\n",
    "                17: \"EU-Türkei-Deal\",\n",
    "                18: \"Kriminalität: Gerichtsverfahren\",\n",
    "                19: \"Flüchtlingsunterbringung in Berlin\",\n",
    "                20: \"Brandanschläge auf Flüchtlingsheime\",\n",
    "                21: \"Grenzkontrollen durch Polizei\",\n",
    "                22: \"Verhandlung einer Abschiebung\",\n",
    "                23: \"Einwanderungszahlen\",\n",
    "                24: \"Migrationspolitik in Afrika\",\n",
    "                25: \"Koalitionsstreit über Transitzonen\",\n",
    "                26: \"Bundesrat Entscheidung zu sicheren Herkunftsstaate\",\n",
    "                27: \"Einwanderung in Sozialsysteme\",\n",
    "                28: \"Familiennachzug\",\n",
    "                29: \"Flüchtlingsprotest am Oranienplatz in Berlin\",\n",
    "                30: \"Abschiebung nach Afghanistan\",\n",
    "                31: \"Seenotrettung 1\",\n",
    "                32: \"Schulen\",\n",
    "                33: \"Kirchen\",\n",
    "                34: \"Balkanroute\",\n",
    "                35: \"Jamaikasondierung\",\n",
    "                36: \"Österreich\",\n",
    "                37: \"Umfragen\",\n",
    "                38: \"Fachkräftemangel\",\n",
    "                39: \"Kriminalität: Straftaten\",\n",
    "                40: \"Jugendliche Flüchtlinge\",\n",
    "                41: \"Marineeinsatz gegen Schleuser im Mittelmeer\",\n",
    "                42: \"Europäische Aktienmärkte\",\n",
    "                43: \"Demonstrationen\",\n",
    "                44: \"Boris Pistorius\",\n",
    "                45: \"Jesiden\",\n",
    "                46: \"Gesundheitsversorgung von Flüchtlingen\",\n",
    "                47: \"Ankunft in München\",\n",
    "                48: \"Aktien: DAX\",\n",
    "                49: \"Grenzkontrollen Schengen\",\n",
    "                50: \"Brexit\",\n",
    "                51: \"Viktor Orban's Asylpolitik\", \n",
    "                52: \"Unterkünfte in Schleswig-Holstein\",\n",
    "                53: \"Calais\",\n",
    "                54: \"Doppelte Staatsbürgerschaft\",\n",
    "                55: \"Seenotrettung 2\",\n",
    "                56: \"Grenzkontrollen in Skandinavien\",\n",
    "                57: \"Börse: Anleihen\",\n",
    "                58: \"UN-Migrationspakt\",\n",
    "                59: \"Lage an den spanischen Enklaven Ceuta und Melilla\",\n",
    "                60: \"Schweiz\",\n",
    "                61: \"Börse: Osteuropa\"}\n",
    "\n",
    "\n",
    "## write topic labels to json\n",
    "import json\n",
    "with open('data/processed/topic_labels.json', 'w') as fp:\n",
    "    json.dump(topic_labels, fp)\n",
    "\n",
    "## topic reduction\n",
    "\n",
    "## merge topic labels\n",
    "reduced_labels = {\"Episodic Framing\": [0],\n",
    "                \"Historical Context\": [1],\n",
    "                \"Coalition Conflict\": [2, 12, 25, 35],\n",
    "                \"Syrian Civil War\": [3, 45],\n",
    "                \"Labor Market\": [4, 38],\n",
    "                \"Budget for Integration\": [5],\n",
    "                \"Housing in Germany\": [6, 19, 52],\n",
    "                \"Humanitarian Crisis Mediterranean\": [7, 31,  55],\n",
    "                \"BAMF\": [8],\n",
    "                \"Trump, Mexico, Migration\": [9],\n",
    "                \"EU Distribution of Refugees\": [10],\n",
    "                \"Deportation\": [11, 22, 30],\n",
    "                \"Stock Market\": [13, 14, 42, 48, 57, 61],\n",
    "                \"AfD Topic\": [15],\n",
    "                \"Humanitarian Crisis EU Borders\": [16, 53, 59],\n",
    "                \"EU-Turkey Deal\": [17],\n",
    "                \"Refugee Crime\": [18, 39],\n",
    "                \"Attacks on Refugee Homes\": [20],\n",
    "                \"Police Action Against Human Trafficking\": [21],\n",
    "                \"Immigration Statistics\": [23],\n",
    "                \"Migration Policy in Africa\": [24],\n",
    "                \"Decision on Safe Countries of Origin\": [26],\n",
    "                \"Welfare Migration\": [27],\n",
    "                \"Family Reunification\": [28],\n",
    "                \"Refugee Protest Berlin\": [29],\n",
    "                \"Refugees in Schools\": [32],\n",
    "                \"Church Debate on Immigration\": [33],\n",
    "                \"Balkan Route\": [34],\n",
    "                \"Austrian Immigration Debate\": [36],\n",
    "                \"Polls\": [37],\n",
    "                \"Young Refugees\": [40],\n",
    "                \"Marine Operation in Mediterranean\": [41],\n",
    "                \"Demonstrations\": [43],\n",
    "                \"Boris Pistorius\": [44],\n",
    "                \"Healthcare for Refugees\": [46],\n",
    "                \"Arrival in Munich\": [47],\n",
    "                \"Schengen Border Control\": [49, 56],\n",
    "                \"Brexit\": [50],\n",
    "                \"Viktor Orban's Asylum Policy\": [51],\n",
    "                \"Double Citizenship\": [54],\n",
    "                \"UN Migration Pact\": [58],\n",
    "                \"Swiss Immigration Debate\": [60]}\n",
    "\n",
    "reduced_ids = {0: [0],\n",
    "                1: [1],\n",
    "                2: [2, 12, 25, 35],\n",
    "                3: [3, 45],\n",
    "                4: [4, 38],\n",
    "                5: [5],\n",
    "                6: [6, 19, 52],\n",
    "                7: [7, 31,  55],\n",
    "                8: [8],\n",
    "                9: [9],\n",
    "                10: [10],\n",
    "                11: [11, 22, 30],\n",
    "                12: [13, 14, 42, 48, 57, 61],\n",
    "                13: [15],\n",
    "                14: [16, 53, 59],\n",
    "                15: [17],\n",
    "                16: [18, 39],\n",
    "                17: [20],\n",
    "                18: [21],\n",
    "                19: [23],\n",
    "                20: [24],\n",
    "                21: [26],\n",
    "                22: [27],\n",
    "                23: [28],\n",
    "                24: [29],\n",
    "                25: [32],\n",
    "                26: [33],\n",
    "                27: [34],\n",
    "                28: [36],\n",
    "                29: [37],\n",
    "                30: [40],\n",
    "                31: [41],\n",
    "                32: [43],\n",
    "                33: [44],\n",
    "                34: [46],\n",
    "                35: [47],\n",
    "                36: [49, 56],\n",
    "                37: [50],\n",
    "                38: [51],\n",
    "                39: [54],\n",
    "                40: [58],\n",
    "                41: [60]}\n",
    "\n",
    "## write reduced labels to json\n",
    "import json\n",
    "with open('data/processed/reduced_topic_labels.json', 'w') as fp:\n",
    "    json.dump(reduced_labels, fp)"
   ]
  },
  {
   "cell_type": "code",
   "execution_count": 6,
   "metadata": {},
   "outputs": [],
   "source": [
    "## load document metadata\n",
    "meta = pd.read_csv(\"data/raw/media/bert_crime_clean.csv\", encoding=\"utf-8\").drop('text', axis=1)"
   ]
  },
  {
   "cell_type": "code",
   "execution_count": 7,
   "metadata": {},
   "outputs": [],
   "source": [
    "## merge topic ids\n",
    "meta['topic_id'] = model.get_documents_topics(model.document_ids)[0]"
   ]
  },
  {
   "cell_type": "code",
   "execution_count": 8,
   "metadata": {},
   "outputs": [],
   "source": [
    "meta['reduced_topic_id'] = meta['topic_id'].apply(lambda x: [i for i, j in reduced_ids.items() if x in j])"
   ]
  },
  {
   "cell_type": "code",
   "execution_count": 9,
   "metadata": {},
   "outputs": [],
   "source": [
    "meta.reduced_topic_id = meta.reduced_topic_id.apply(lambda x: x[0])"
   ]
  },
  {
   "cell_type": "code",
   "execution_count": 10,
   "metadata": {},
   "outputs": [],
   "source": [
    "## add labels\n",
    "meta['topic_label'] = [topic_labels[k] for k in meta.topic_id]"
   ]
  },
  {
   "cell_type": "code",
   "execution_count": 11,
   "metadata": {},
   "outputs": [],
   "source": [
    "meta['reduced_topic_label'] = meta['topic_id'].apply(lambda x: [i for i, j in reduced_labels.items() if x in j])\n",
    "meta.reduced_topic_label = meta.reduced_topic_label.apply(lambda x: x[0])"
   ]
  },
  {
   "cell_type": "code",
   "execution_count": 12,
   "metadata": {},
   "outputs": [
    {
     "data": {
      "text/plain": [
       "Coalition Conflict                         0.082692\n",
       "Stock Market                               0.071349\n",
       "Episodic Framing                           0.054685\n",
       "Housing in Germany                         0.054031\n",
       "Deportation                                0.052818\n",
       "Humanitarian Crisis Mediterranean          0.048675\n",
       "Labor Market                               0.041661\n",
       "Syrian Civil War                           0.040518\n",
       "Historical Context                         0.040121\n",
       "Humanitarian Crisis EU Borders             0.033481\n",
       "Refugee Crime                              0.030295\n",
       "Budget for Integration                     0.029058\n",
       "BAMF                                       0.027132\n",
       "Trump, Mexico, Migration                   0.026736\n",
       "EU Distribution of Refugees                0.025043\n",
       "AfD Topic                                  0.020084\n",
       "EU-Turkey Deal                             0.019150\n",
       "Attacks on Refugee Homes                   0.016116\n",
       "Police Action Against Human Trafficking    0.015999\n",
       "Immigration Statistics                     0.015673\n",
       "Migration Policy in Africa                 0.015509\n",
       "Schengen Border Control                    0.015439\n",
       "Decision on Safe Countries of Origin       0.015241\n",
       "Welfare Migration                          0.015217\n",
       "Family Reunification                       0.014949\n",
       "Refugee Protest Berlin                     0.014121\n",
       "Refugees in Schools                        0.012965\n",
       "Church Debate on Immigration               0.012802\n",
       "Balkan Route                               0.012615\n",
       "Polls                                      0.012347\n",
       "Austrian Immigration Debate                0.012347\n",
       "Young Refugees                             0.011670\n",
       "Marine Operation in Mediterranean          0.011530\n",
       "Demonstrations                             0.011180\n",
       "Boris Pistorius                            0.011040\n",
       "Healthcare for Refugees                    0.010094\n",
       "Arrival in Munich                          0.009744\n",
       "Brexit                                     0.008834\n",
       "Viktor Orban's Asylum Policy               0.008414\n",
       "Double Citizenship                         0.007702\n",
       "UN Migration Pact                          0.006033\n",
       "Swiss Immigration Debate                   0.004890\n",
       "Name: reduced_topic_label, dtype: float64"
      ]
     },
     "execution_count": 12,
     "metadata": {},
     "output_type": "execute_result"
    }
   ],
   "source": [
    "meta.reduced_topic_label.value_counts(normalize=True)"
   ]
  },
  {
   "cell_type": "code",
   "execution_count": 13,
   "metadata": {},
   "outputs": [],
   "source": [
    "## add topic similarity to document data (takes a few minutes)\n",
    "doc_top_sim = model.get_documents_topics(model.document_ids, num_topics=62)[1]"
   ]
  },
  {
   "cell_type": "code",
   "execution_count": 14,
   "metadata": {},
   "outputs": [
    {
     "data": {
      "text/plain": [
       "(85691, 62)"
      ]
     },
     "execution_count": 14,
     "metadata": {},
     "output_type": "execute_result"
    }
   ],
   "source": [
    "doc_top_sim.shape"
   ]
  },
  {
   "cell_type": "code",
   "execution_count": 15,
   "metadata": {},
   "outputs": [],
   "source": [
    "doc_top_sim = pd.DataFrame(doc_top_sim, columns=[f\"Association (ot): {t}\" for t in topic_labels.values()])"
   ]
  },
  {
   "cell_type": "code",
   "execution_count": 16,
   "metadata": {},
   "outputs": [],
   "source": [
    "## merge topic similarities\n",
    "meta = pd.concat([meta.drop(\"V1\", axis = 1), doc_top_sim], axis=1)"
   ]
  },
  {
   "cell_type": "code",
   "execution_count": 17,
   "metadata": {},
   "outputs": [],
   "source": [
    "## generate reduced topic vectors\n",
    "rt_vectors = pd.DataFrame()\n",
    "for rt in reduced_ids.keys():\n",
    "    ots = reduced_ids[rt] # get original topic ids\n",
    "    ot_vectors = model.topic_vectors[ots] # get original topic vectors\n",
    "    rt_vector = np.mean(ot_vectors, axis=0) # calculate reduced topic vector\n",
    "    rt_vectors = pd.concat([rt_vectors, pd.DataFrame(rt_vector).T], axis=0) # add to dataframe"
   ]
  },
  {
   "cell_type": "code",
   "execution_count": 18,
   "metadata": {},
   "outputs": [],
   "source": [
    "## estimate cosin sim to reduced topics\n",
    "from scipy.spatial import distance\n",
    "cos_sim = 1 - distance.cdist(model.document_vectors, rt_vectors, 'cosine')"
   ]
  },
  {
   "cell_type": "code",
   "execution_count": 19,
   "metadata": {},
   "outputs": [],
   "source": [
    "cos_sim = pd.DataFrame(cos_sim, columns=[f\"Association (reduced): {t}\" for t in reduced_labels.keys()])"
   ]
  },
  {
   "cell_type": "code",
   "execution_count": 20,
   "metadata": {},
   "outputs": [],
   "source": [
    "## merge\n",
    "meta = pd.concat([meta, pd.DataFrame(cos_sim)], axis=1)"
   ]
  },
  {
   "cell_type": "code",
   "execution_count": 21,
   "metadata": {},
   "outputs": [],
   "source": [
    "## drop stock market topic\n",
    "meta = meta[meta.reduced_topic_label != \"Stock Market\"]"
   ]
  },
  {
   "cell_type": "code",
   "execution_count": 22,
   "metadata": {},
   "outputs": [],
   "source": [
    "## write to csv\n",
    "meta.to_csv(\"data/processed/media/docs_topics_sims.csv\", index=False)"
   ]
  },
  {
   "cell_type": "code",
   "execution_count": null,
   "metadata": {},
   "outputs": [],
   "source": [
    "docvecs = model.document_vectors[meta.reduced_topic_label != \"Stock Market\"]"
   ]
  }
 ],
 "metadata": {
  "kernelspec": {
   "display_name": "Python 3",
   "language": "python",
   "name": "python3"
  },
  "language_info": {
   "codemirror_mode": {
    "name": "ipython",
    "version": 3
   },
   "file_extension": ".py",
   "mimetype": "text/x-python",
   "name": "python",
   "nbconvert_exporter": "python",
   "pygments_lexer": "ipython3",
   "version": "3.10.11"
  },
  "orig_nbformat": 4
 },
 "nbformat": 4,
 "nbformat_minor": 2
}
