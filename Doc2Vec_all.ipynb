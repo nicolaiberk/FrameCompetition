{
  "nbformat": 4,
  "nbformat_minor": 0,
  "metadata": {
    "colab": {
      "provenance": [],
      "machine_shape": "hm",
      "mount_file_id": "1U9MGqj047Po_0M3jEVAQak2zi_VH9B59",
      "authorship_tag": "ABX9TyOkC47KYm7TlUB0ws3OWsR3",
      "include_colab_link": true
    },
    "kernelspec": {
      "name": "python3",
      "display_name": "Python 3"
    },
    "language_info": {
      "name": "python"
    },
    "gpuClass": "standard"
  },
  "cells": [
    {
      "cell_type": "markdown",
      "metadata": {
        "id": "view-in-github",
        "colab_type": "text"
      },
      "source": [
        "<a href=\"https://colab.research.google.com/github/nicolaiberk/FrameCompetition/blob/main/Doc2Vec_all.ipynb\" target=\"_parent\"><img src=\"https://colab.research.google.com/assets/colab-badge.svg\" alt=\"Open In Colab\"/></a>"
      ]
    },
    {
      "cell_type": "code",
      "source": [
        "from google.colab import drive\n",
        "drive.mount('/content/drive')\n",
        "\n",
        "import os\n",
        "os.chdir(\"drive/MyDrive/frameComp\")\n",
        "\n",
        "import logging\n",
        "logging.basicConfig(format='%(asctime)s : %(levelname)s : %(message)s', level=logging.INFO)"
      ],
      "metadata": {
        "colab": {
          "base_uri": "https://localhost:8080/"
        },
        "id": "26d093dDUdcZ",
        "outputId": "99571cfd-5766-4c91-dd27-0d5e7eda1018"
      },
      "execution_count": null,
      "outputs": [
        {
          "output_type": "stream",
          "name": "stdout",
          "text": [
            "Drive already mounted at /content/drive; to attempt to forcibly remount, call drive.mount(\"/content/drive\", force_remount=True).\n"
          ]
        }
      ]
    },
    {
      "cell_type": "code",
      "source": [
        "import pandas as pd\n",
        "import numpy as np\n",
        "from tqdm import tqdm\n",
        "import string\n",
        "import csv\n",
        "from datetime import datetime\n",
        "import re\n",
        "import smart_open\n",
        "import multiprocessing\n",
        "\n",
        "import nltk\n",
        "nltk.download('punkt')\n",
        "from nltk.tokenize import RegexpTokenizer\n",
        "\n",
        "PunctTokenizer = RegexpTokenizer(r'\\w+')\n",
        "\n",
        "import sys\n",
        "csv.field_size_limit(sys.maxsize)\n",
        "\n",
        "import gensim\n",
        "from gensim.models.doc2vec import Doc2Vec, TaggedDocument"
      ],
      "metadata": {
        "colab": {
          "base_uri": "https://localhost:8080/"
        },
        "id": "Qt7kPgzrVYss",
        "outputId": "82919e0b-280f-42a3-f4e0-a22a28aead1f"
      },
      "execution_count": null,
      "outputs": [
        {
          "output_type": "stream",
          "name": "stderr",
          "text": [
            "[nltk_data] Downloading package punkt to /root/nltk_data...\n",
            "[nltk_data]   Package punkt is already up-to-date!\n"
          ]
        }
      ]
    },
    {
      "cell_type": "code",
      "source": [
        "if not os.path.isfile('news_merged.csv'):\n",
        "  # get annotated migration articles\n",
        "  !wget -O news_merged.csv https://www.dropbox.com/s/rij19gzmka99a1m/news_merged.csv?dl=0"
      ],
      "metadata": {
        "id": "u6GTGW_BMIEn"
      },
      "execution_count": null,
      "outputs": []
    },
    {
      "cell_type": "markdown",
      "source": [
        "# Time for the Doc2 Vec model\n",
        "See tutorial [here](https://radimrehurek.com/gensim/auto_examples/tutorials/run_doc2vec_lee.html#define-a-function-to-read-and-preprocess-text)."
      ],
      "metadata": {
        "id": "4v7rLxZPiX9d"
      }
    },
    {
      "cell_type": "code",
      "source": [
        "## alternative approach using iterator from https://radimrehurek.com/gensim/auto_examples/core/run_corpora_and_vector_spaces.html \n",
        "class MyCorpus:\n",
        "    def __iter__(self):\n",
        "        with open(\"news_merged.csv\", encoding = \"UTF-8\") as f:\n",
        "          reader = csv.reader(f)\n",
        "\n",
        "          for i, line in tqdm(enumerate(reader)):\n",
        "\n",
        "            if i == 0:\n",
        "              paper_pos = np.argmax([l == 'paper' for l in line])\n",
        "              text_pos = np.argmax([l == 'text' for l in line])\n",
        "              date_pos = np.argmax([l == 'date_clean' for l in line])\n",
        "\n",
        "\n",
        "            # preprocess text\n",
        "            text = PunctTokenizer.tokenize(line[text_pos])\n",
        "            \n",
        "            # define tag\n",
        "            tag = line[paper_pos]+line[date_pos][0:7]\n",
        "\n",
        "            # return data in appropriate format\n",
        "            yield gensim.models.doc2vec.TaggedDocument(text, [tag])"
      ],
      "metadata": {
        "id": "0vukgUVOiXHC"
      },
      "execution_count": null,
      "outputs": []
    },
    {
      "cell_type": "code",
      "source": [
        "print(f\"Started setting up the model at {datetime.now()}\")\n",
        "d2v_model = gensim.models.doc2vec.Doc2Vec(MyCorpus(),\n",
        "                                          vector_size=300, \n",
        "                                          min_count=100, \n",
        "                                          epochs=5, \n",
        "                                          workers = multiprocessing.cpu_count(), \n",
        "                                          docvecs_mapfile = \"docvecs_mapfile\")\n",
        "print(f\"Finished training at {datetime.now()}\")"
      ],
      "metadata": {
        "id": "MuTQ7NzTswB9",
        "colab": {
          "base_uri": "https://localhost:8080/"
        },
        "outputId": "77c17647-b115-43d0-f26c-f533869bf14b"
      },
      "execution_count": null,
      "outputs": [
        {
          "metadata": {
            "tags": null
          },
          "name": "stdout",
          "output_type": "stream",
          "text": [
            "Started setting up the model at 2022-12-06 17:20:23.780952\n"
          ]
        },
        {
          "output_type": "stream",
          "name": "stderr",
          "text": [
            "4932469it [28:52, 2847.63it/s]\n",
            "4932469it [1:34:12, 872.59it/s]\n",
            "4932469it [1:37:00, 847.48it/s]\n",
            "4932469it [1:44:40, 785.35it/s]\n",
            "4932469it [1:47:48, 762.60it/s]\n",
            "4932469it [1:38:54, 831.18it/s]\n"
          ]
        },
        {
          "output_type": "stream",
          "name": "stdout",
          "text": [
            "Finished training at 2022-12-07 02:13:00.394215\n"
          ]
        }
      ]
    },
    {
      "cell_type": "code",
      "source": [
        "d2v_model.save(\"np_doc_emb\")\n",
        "print(\"model saved\")"
      ],
      "metadata": {
        "id": "qllBe9B6xCDO",
        "colab": {
          "base_uri": "https://localhost:8080/"
        },
        "outputId": "a6ee15d6-f1bf-4f14-f30c-c4117545e3ae"
      },
      "execution_count": null,
      "outputs": [
        {
          "output_type": "stream",
          "name": "stdout",
          "text": [
            "model saved\n"
          ]
        }
      ]
    }
  ]
}